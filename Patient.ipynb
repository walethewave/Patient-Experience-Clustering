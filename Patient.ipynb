{
 "cells": [
  {
   "cell_type": "markdown",
   "metadata": {},
   "source": [
    "##### Patient Experience Clustering"
   ]
  },
  {
   "cell_type": "code",
   "execution_count": 1,
   "metadata": {},
   "outputs": [],
   "source": [
    "# importing libraries\n",
    "import pandas as pd\n",
    "import numpy as np\n",
    "import matplotlib.pyplot as plt\n",
    "import seaborn as sns"
   ]
  },
  {
   "cell_type": "code",
   "execution_count": 2,
   "metadata": {},
   "outputs": [
    {
     "data": {
      "text/plain": [
       "<function print(*args, sep=' ', end='\\n', file=None, flush=False)>"
      ]
     },
     "execution_count": 2,
     "metadata": {},
     "output_type": "execute_result"
    }
   ],
   "source": [
    "train_data = pd.read_csv('drugsComTrain_raw.csv')\n",
    "test_data = pd.read_csv('drugsComTest_raw.csv')\n",
    "print"
   ]
  },
  {
   "cell_type": "code",
   "execution_count": 3,
   "metadata": {},
   "outputs": [
    {
     "data": {
      "text/html": [
       "<div>\n",
       "<style scoped>\n",
       "    .dataframe tbody tr th:only-of-type {\n",
       "        vertical-align: middle;\n",
       "    }\n",
       "\n",
       "    .dataframe tbody tr th {\n",
       "        vertical-align: top;\n",
       "    }\n",
       "\n",
       "    .dataframe thead th {\n",
       "        text-align: right;\n",
       "    }\n",
       "</style>\n",
       "<table border=\"1\" class=\"dataframe\">\n",
       "  <thead>\n",
       "    <tr style=\"text-align: right;\">\n",
       "      <th></th>\n",
       "      <th>Unnamed: 0</th>\n",
       "      <th>drugName</th>\n",
       "      <th>condition</th>\n",
       "      <th>review</th>\n",
       "      <th>rating</th>\n",
       "      <th>date</th>\n",
       "      <th>usefulCount</th>\n",
       "    </tr>\n",
       "  </thead>\n",
       "  <tbody>\n",
       "    <tr>\n",
       "      <th>0</th>\n",
       "      <td>206461</td>\n",
       "      <td>Valsartan</td>\n",
       "      <td>Left Ventricular Dysfunction</td>\n",
       "      <td>\"It has no side effect, I take it in combinati...</td>\n",
       "      <td>9.0</td>\n",
       "      <td>May 20, 2012</td>\n",
       "      <td>27</td>\n",
       "    </tr>\n",
       "    <tr>\n",
       "      <th>1</th>\n",
       "      <td>95260</td>\n",
       "      <td>Guanfacine</td>\n",
       "      <td>ADHD</td>\n",
       "      <td>\"My son is halfway through his fourth week of ...</td>\n",
       "      <td>8.0</td>\n",
       "      <td>April 27, 2010</td>\n",
       "      <td>192</td>\n",
       "    </tr>\n",
       "    <tr>\n",
       "      <th>2</th>\n",
       "      <td>92703</td>\n",
       "      <td>Lybrel</td>\n",
       "      <td>Birth Control</td>\n",
       "      <td>\"I used to take another oral contraceptive, wh...</td>\n",
       "      <td>5.0</td>\n",
       "      <td>December 14, 2009</td>\n",
       "      <td>17</td>\n",
       "    </tr>\n",
       "    <tr>\n",
       "      <th>3</th>\n",
       "      <td>138000</td>\n",
       "      <td>Ortho Evra</td>\n",
       "      <td>Birth Control</td>\n",
       "      <td>\"This is my first time using any form of birth...</td>\n",
       "      <td>8.0</td>\n",
       "      <td>November 3, 2015</td>\n",
       "      <td>10</td>\n",
       "    </tr>\n",
       "    <tr>\n",
       "      <th>4</th>\n",
       "      <td>35696</td>\n",
       "      <td>Buprenorphine / naloxone</td>\n",
       "      <td>Opiate Dependence</td>\n",
       "      <td>\"Suboxone has completely turned my life around...</td>\n",
       "      <td>9.0</td>\n",
       "      <td>November 27, 2016</td>\n",
       "      <td>37</td>\n",
       "    </tr>\n",
       "  </tbody>\n",
       "</table>\n",
       "</div>"
      ],
      "text/plain": [
       "   Unnamed: 0                  drugName                     condition  \\\n",
       "0      206461                 Valsartan  Left Ventricular Dysfunction   \n",
       "1       95260                Guanfacine                          ADHD   \n",
       "2       92703                    Lybrel                 Birth Control   \n",
       "3      138000                Ortho Evra                 Birth Control   \n",
       "4       35696  Buprenorphine / naloxone             Opiate Dependence   \n",
       "\n",
       "                                              review  rating  \\\n",
       "0  \"It has no side effect, I take it in combinati...     9.0   \n",
       "1  \"My son is halfway through his fourth week of ...     8.0   \n",
       "2  \"I used to take another oral contraceptive, wh...     5.0   \n",
       "3  \"This is my first time using any form of birth...     8.0   \n",
       "4  \"Suboxone has completely turned my life around...     9.0   \n",
       "\n",
       "                date  usefulCount  \n",
       "0       May 20, 2012           27  \n",
       "1     April 27, 2010          192  \n",
       "2  December 14, 2009           17  \n",
       "3   November 3, 2015           10  \n",
       "4  November 27, 2016           37  "
      ]
     },
     "execution_count": 3,
     "metadata": {},
     "output_type": "execute_result"
    }
   ],
   "source": [
    "train_data.head(5)"
   ]
  },
  {
   "cell_type": "code",
   "execution_count": 4,
   "metadata": {},
   "outputs": [
    {
     "name": "stdout",
     "output_type": "stream",
     "text": [
      "<class 'pandas.core.frame.DataFrame'>\n",
      "RangeIndex: 161297 entries, 0 to 161296\n",
      "Data columns (total 7 columns):\n",
      " #   Column       Non-Null Count   Dtype  \n",
      "---  ------       --------------   -----  \n",
      " 0   Unnamed: 0   161297 non-null  int64  \n",
      " 1   drugName     161297 non-null  object \n",
      " 2   condition    160398 non-null  object \n",
      " 3   review       161297 non-null  object \n",
      " 4   rating       161297 non-null  float64\n",
      " 5   date         161297 non-null  object \n",
      " 6   usefulCount  161297 non-null  int64  \n",
      "dtypes: float64(1), int64(2), object(4)\n",
      "memory usage: 8.6+ MB\n"
     ]
    }
   ],
   "source": [
    "train_data.info()"
   ]
  },
  {
   "cell_type": "code",
   "execution_count": 5,
   "metadata": {},
   "outputs": [
    {
     "data": {
      "text/plain": [
       "Unnamed: 0       0\n",
       "drugName         0\n",
       "condition      899\n",
       "review           0\n",
       "rating           0\n",
       "date             0\n",
       "usefulCount      0\n",
       "dtype: int64"
      ]
     },
     "execution_count": 5,
     "metadata": {},
     "output_type": "execute_result"
    }
   ],
   "source": [
    "train_data.isnull().sum()"
   ]
  },
  {
   "cell_type": "code",
   "execution_count": 6,
   "metadata": {},
   "outputs": [
    {
     "data": {
      "text/plain": [
       "0         False\n",
       "1         False\n",
       "2         False\n",
       "3         False\n",
       "4         False\n",
       "          ...  \n",
       "161292    False\n",
       "161293    False\n",
       "161294    False\n",
       "161295    False\n",
       "161296    False\n",
       "Name: condition, Length: 161297, dtype: bool"
      ]
     },
     "execution_count": 6,
     "metadata": {},
     "output_type": "execute_result"
    }
   ],
   "source": [
    "train_data['condition'].isnull()"
   ]
  },
  {
   "cell_type": "code",
   "execution_count": 7,
   "metadata": {},
   "outputs": [],
   "source": [
    "# using clustering to fill the condition coulmn that are empty\n",
    "from sklearn.preprocessing import LabelEncoder\n",
    "from sklearn.feature_extraction.text import TfidfTransformer\n"
   ]
  },
  {
   "cell_type": "code",
   "execution_count": 8,
   "metadata": {},
   "outputs": [],
   "source": [
    "train_data.dropna(inplace=True)"
   ]
  },
  {
   "cell_type": "code",
   "execution_count": 9,
   "metadata": {},
   "outputs": [
    {
     "data": {
      "text/html": [
       "<div>\n",
       "<style scoped>\n",
       "    .dataframe tbody tr th:only-of-type {\n",
       "        vertical-align: middle;\n",
       "    }\n",
       "\n",
       "    .dataframe tbody tr th {\n",
       "        vertical-align: top;\n",
       "    }\n",
       "\n",
       "    .dataframe thead th {\n",
       "        text-align: right;\n",
       "    }\n",
       "</style>\n",
       "<table border=\"1\" class=\"dataframe\">\n",
       "  <thead>\n",
       "    <tr style=\"text-align: right;\">\n",
       "      <th></th>\n",
       "      <th>Unnamed: 0</th>\n",
       "      <th>drugName</th>\n",
       "      <th>condition</th>\n",
       "      <th>review</th>\n",
       "      <th>rating</th>\n",
       "      <th>date</th>\n",
       "      <th>usefulCount</th>\n",
       "    </tr>\n",
       "  </thead>\n",
       "  <tbody>\n",
       "    <tr>\n",
       "      <th>0</th>\n",
       "      <td>206461</td>\n",
       "      <td>Valsartan</td>\n",
       "      <td>Left Ventricular Dysfunction</td>\n",
       "      <td>\"It has no side effect, I take it in combinati...</td>\n",
       "      <td>9.0</td>\n",
       "      <td>May 20, 2012</td>\n",
       "      <td>27</td>\n",
       "    </tr>\n",
       "    <tr>\n",
       "      <th>1</th>\n",
       "      <td>95260</td>\n",
       "      <td>Guanfacine</td>\n",
       "      <td>ADHD</td>\n",
       "      <td>\"My son is halfway through his fourth week of ...</td>\n",
       "      <td>8.0</td>\n",
       "      <td>April 27, 2010</td>\n",
       "      <td>192</td>\n",
       "    </tr>\n",
       "    <tr>\n",
       "      <th>2</th>\n",
       "      <td>92703</td>\n",
       "      <td>Lybrel</td>\n",
       "      <td>Birth Control</td>\n",
       "      <td>\"I used to take another oral contraceptive, wh...</td>\n",
       "      <td>5.0</td>\n",
       "      <td>December 14, 2009</td>\n",
       "      <td>17</td>\n",
       "    </tr>\n",
       "    <tr>\n",
       "      <th>3</th>\n",
       "      <td>138000</td>\n",
       "      <td>Ortho Evra</td>\n",
       "      <td>Birth Control</td>\n",
       "      <td>\"This is my first time using any form of birth...</td>\n",
       "      <td>8.0</td>\n",
       "      <td>November 3, 2015</td>\n",
       "      <td>10</td>\n",
       "    </tr>\n",
       "  </tbody>\n",
       "</table>\n",
       "</div>"
      ],
      "text/plain": [
       "   Unnamed: 0    drugName                     condition  \\\n",
       "0      206461   Valsartan  Left Ventricular Dysfunction   \n",
       "1       95260  Guanfacine                          ADHD   \n",
       "2       92703      Lybrel                 Birth Control   \n",
       "3      138000  Ortho Evra                 Birth Control   \n",
       "\n",
       "                                              review  rating  \\\n",
       "0  \"It has no side effect, I take it in combinati...     9.0   \n",
       "1  \"My son is halfway through his fourth week of ...     8.0   \n",
       "2  \"I used to take another oral contraceptive, wh...     5.0   \n",
       "3  \"This is my first time using any form of birth...     8.0   \n",
       "\n",
       "                date  usefulCount  \n",
       "0       May 20, 2012           27  \n",
       "1     April 27, 2010          192  \n",
       "2  December 14, 2009           17  \n",
       "3   November 3, 2015           10  "
      ]
     },
     "execution_count": 9,
     "metadata": {},
     "output_type": "execute_result"
    }
   ],
   "source": [
    "train_data.head(4)"
   ]
  },
  {
   "cell_type": "code",
   "execution_count": 10,
   "metadata": {},
   "outputs": [
    {
     "data": {
      "text/plain": [
       "Unnamed: 0     0\n",
       "drugName       0\n",
       "condition      0\n",
       "review         0\n",
       "rating         0\n",
       "date           0\n",
       "usefulCount    0\n",
       "dtype: int64"
      ]
     },
     "execution_count": 10,
     "metadata": {},
     "output_type": "execute_result"
    }
   ],
   "source": [
    "train_data.isnull().sum()"
   ]
  },
  {
   "cell_type": "code",
   "execution_count": 11,
   "metadata": {},
   "outputs": [
    {
     "name": "stdout",
     "output_type": "stream",
     "text": [
      "<class 'pandas.core.frame.DataFrame'>\n",
      "Index: 160398 entries, 0 to 161296\n",
      "Data columns (total 7 columns):\n",
      " #   Column       Non-Null Count   Dtype  \n",
      "---  ------       --------------   -----  \n",
      " 0   Unnamed: 0   160398 non-null  int64  \n",
      " 1   drugName     160398 non-null  object \n",
      " 2   condition    160398 non-null  object \n",
      " 3   review       160398 non-null  object \n",
      " 4   rating       160398 non-null  float64\n",
      " 5   date         160398 non-null  object \n",
      " 6   usefulCount  160398 non-null  int64  \n",
      "dtypes: float64(1), int64(2), object(4)\n",
      "memory usage: 9.8+ MB\n"
     ]
    }
   ],
   "source": [
    "train_data.info()"
   ]
  },
  {
   "cell_type": "code",
   "execution_count": 13,
   "metadata": {},
   "outputs": [
    {
     "data": {
      "text/html": [
       "<div>\n",
       "<style scoped>\n",
       "    .dataframe tbody tr th:only-of-type {\n",
       "        vertical-align: middle;\n",
       "    }\n",
       "\n",
       "    .dataframe tbody tr th {\n",
       "        vertical-align: top;\n",
       "    }\n",
       "\n",
       "    .dataframe thead th {\n",
       "        text-align: right;\n",
       "    }\n",
       "</style>\n",
       "<table border=\"1\" class=\"dataframe\">\n",
       "  <thead>\n",
       "    <tr style=\"text-align: right;\">\n",
       "      <th></th>\n",
       "      <th>Unnamed: 0</th>\n",
       "      <th>rating</th>\n",
       "      <th>usefulCount</th>\n",
       "    </tr>\n",
       "  </thead>\n",
       "  <tbody>\n",
       "    <tr>\n",
       "      <th>count</th>\n",
       "      <td>160398.000000</td>\n",
       "      <td>160398.000000</td>\n",
       "      <td>160398.000000</td>\n",
       "    </tr>\n",
       "    <tr>\n",
       "      <th>mean</th>\n",
       "      <td>115957.147309</td>\n",
       "      <td>6.995923</td>\n",
       "      <td>28.097613</td>\n",
       "    </tr>\n",
       "    <tr>\n",
       "      <th>std</th>\n",
       "      <td>67015.899492</td>\n",
       "      <td>3.272303</td>\n",
       "      <td>36.457876</td>\n",
       "    </tr>\n",
       "    <tr>\n",
       "      <th>min</th>\n",
       "      <td>2.000000</td>\n",
       "      <td>1.000000</td>\n",
       "      <td>0.000000</td>\n",
       "    </tr>\n",
       "    <tr>\n",
       "      <th>25%</th>\n",
       "      <td>58065.250000</td>\n",
       "      <td>5.000000</td>\n",
       "      <td>6.000000</td>\n",
       "    </tr>\n",
       "    <tr>\n",
       "      <th>50%</th>\n",
       "      <td>115845.500000</td>\n",
       "      <td>8.000000</td>\n",
       "      <td>16.000000</td>\n",
       "    </tr>\n",
       "    <tr>\n",
       "      <th>75%</th>\n",
       "      <td>173826.750000</td>\n",
       "      <td>10.000000</td>\n",
       "      <td>36.000000</td>\n",
       "    </tr>\n",
       "    <tr>\n",
       "      <th>max</th>\n",
       "      <td>232291.000000</td>\n",
       "      <td>10.000000</td>\n",
       "      <td>1291.000000</td>\n",
       "    </tr>\n",
       "  </tbody>\n",
       "</table>\n",
       "</div>"
      ],
      "text/plain": [
       "          Unnamed: 0         rating    usefulCount\n",
       "count  160398.000000  160398.000000  160398.000000\n",
       "mean   115957.147309       6.995923      28.097613\n",
       "std     67015.899492       3.272303      36.457876\n",
       "min         2.000000       1.000000       0.000000\n",
       "25%     58065.250000       5.000000       6.000000\n",
       "50%    115845.500000       8.000000      16.000000\n",
       "75%    173826.750000      10.000000      36.000000\n",
       "max    232291.000000      10.000000    1291.000000"
      ]
     },
     "execution_count": 13,
     "metadata": {},
     "output_type": "execute_result"
    }
   ],
   "source": [
    "train_data.describe()"
   ]
  },
  {
   "cell_type": "code",
   "execution_count": 14,
   "metadata": {},
   "outputs": [
    {
     "data": {
      "text/plain": [
       "(160398, 7)"
      ]
     },
     "execution_count": 14,
     "metadata": {},
     "output_type": "execute_result"
    }
   ],
   "source": [
    "train_data.shape"
   ]
  },
  {
   "cell_type": "code",
   "execution_count": 15,
   "metadata": {},
   "outputs": [
    {
     "data": {
      "text/plain": [
       "Unnamed: 0     160398\n",
       "drugName         3431\n",
       "condition         884\n",
       "review         112105\n",
       "rating             10\n",
       "date             3579\n",
       "usefulCount       389\n",
       "dtype: int64"
      ]
     },
     "execution_count": 15,
     "metadata": {},
     "output_type": "execute_result"
    }
   ],
   "source": [
    "train_data.nunique()"
   ]
  },
  {
   "cell_type": "code",
   "execution_count": 18,
   "metadata": {},
   "outputs": [
    {
     "data": {
      "text/plain": [
       "Text(0.5, 1.0, 'Top genres')"
      ]
     },
     "execution_count": 18,
     "metadata": {},
     "output_type": "execute_result"
    },
    {
     "data": {
      "image/png": "[encoded data removed]",
      "text/plain": [
       "<Figure size 1000x700 with 1 Axes>"
      ]
     },
     "metadata": {},
     "output_type": "display_data"
    }
   ],
   "source": [
    "top = train_data['condition'].value_counts()\n",
    "plt.figure(figsize=(10,7))\n",
    "sns.barplot(x=top[:5].index, y=top[:5].values, color = 'red')\n",
    "plt.xticks(rotation=45)\n",
    "plt.title('Top genres', color = 'blue')"
   ]
  },
  {
   "cell_type": "code",
   "execution_count": 20,
   "metadata": {},
   "outputs": [
    {
     "data": {
      "text/plain": [
       "Text(0.5, 1.0, 'Top genres')"
      ]
     },
     "execution_count": 20,
     "metadata": {},
     "output_type": "execute_result"
    },
    {
     "data": {
      "image/png": "[encoded data removed]",
      "text/plain": [
       "<Figure size 1000x700 with 1 Axes>"
      ]
     },
     "metadata": {},
     "output_type": "display_data"
    }
   ],
   "source": [
    "top = train_data['drugName'].value_counts()\n",
    "plt.figure(figsize=(10,7))\n",
    "sns.barplot(x=top[:5].index, y=top[:5].values, color = 'red')\n",
    "plt.xticks(rotation=45)\n",
    "plt.title('Top genres', color = 'blue')"
   ]
  },
  {
   "cell_type": "code",
   "execution_count": 21,
   "metadata": {},
   "outputs": [],
   "source": [
    "train_data = train_data.drop(columns=['Unnamed: 0'])\n"
   ]
  },
  {
   "cell_type": "code",
   "execution_count": 22,
   "metadata": {},
   "outputs": [],
   "source": [
    "train_data['date'] = pd.to_datetime(train_data['date'], errors='coerce')\n"
   ]
  },
  {
   "cell_type": "code",
   "execution_count": 23,
   "metadata": {},
   "outputs": [
    {
     "data": {
      "text/html": [
       "<div>\n",
       "<style scoped>\n",
       "    .dataframe tbody tr th:only-of-type {\n",
       "        vertical-align: middle;\n",
       "    }\n",
       "\n",
       "    .dataframe tbody tr th {\n",
       "        vertical-align: top;\n",
       "    }\n",
       "\n",
       "    .dataframe thead th {\n",
       "        text-align: right;\n",
       "    }\n",
       "</style>\n",
       "<table border=\"1\" class=\"dataframe\">\n",
       "  <thead>\n",
       "    <tr style=\"text-align: right;\">\n",
       "      <th></th>\n",
       "      <th>drugName</th>\n",
       "      <th>condition</th>\n",
       "      <th>review</th>\n",
       "      <th>rating</th>\n",
       "      <th>date</th>\n",
       "      <th>usefulCount</th>\n",
       "    </tr>\n",
       "  </thead>\n",
       "  <tbody>\n",
       "    <tr>\n",
       "      <th>0</th>\n",
       "      <td>Valsartan</td>\n",
       "      <td>Left Ventricular Dysfunction</td>\n",
       "      <td>\"It has no side effect, I take it in combinati...</td>\n",
       "      <td>9.0</td>\n",
       "      <td>2012-05-20</td>\n",
       "      <td>27</td>\n",
       "    </tr>\n",
       "    <tr>\n",
       "      <th>1</th>\n",
       "      <td>Guanfacine</td>\n",
       "      <td>ADHD</td>\n",
       "      <td>\"My son is halfway through his fourth week of ...</td>\n",
       "      <td>8.0</td>\n",
       "      <td>2010-04-27</td>\n",
       "      <td>192</td>\n",
       "    </tr>\n",
       "    <tr>\n",
       "      <th>2</th>\n",
       "      <td>Lybrel</td>\n",
       "      <td>Birth Control</td>\n",
       "      <td>\"I used to take another oral contraceptive, wh...</td>\n",
       "      <td>5.0</td>\n",
       "      <td>2009-12-14</td>\n",
       "      <td>17</td>\n",
       "    </tr>\n",
       "    <tr>\n",
       "      <th>3</th>\n",
       "      <td>Ortho Evra</td>\n",
       "      <td>Birth Control</td>\n",
       "      <td>\"This is my first time using any form of birth...</td>\n",
       "      <td>8.0</td>\n",
       "      <td>2015-11-03</td>\n",
       "      <td>10</td>\n",
       "    </tr>\n",
       "    <tr>\n",
       "      <th>4</th>\n",
       "      <td>Buprenorphine / naloxone</td>\n",
       "      <td>Opiate Dependence</td>\n",
       "      <td>\"Suboxone has completely turned my life around...</td>\n",
       "      <td>9.0</td>\n",
       "      <td>2016-11-27</td>\n",
       "      <td>37</td>\n",
       "    </tr>\n",
       "    <tr>\n",
       "      <th>5</th>\n",
       "      <td>Cialis</td>\n",
       "      <td>Benign Prostatic Hyperplasia</td>\n",
       "      <td>\"2nd day on 5mg started to work with rock hard...</td>\n",
       "      <td>2.0</td>\n",
       "      <td>2015-11-28</td>\n",
       "      <td>43</td>\n",
       "    </tr>\n",
       "    <tr>\n",
       "      <th>6</th>\n",
       "      <td>Levonorgestrel</td>\n",
       "      <td>Emergency Contraception</td>\n",
       "      <td>\"He pulled out, but he cummed a bit in me. I t...</td>\n",
       "      <td>1.0</td>\n",
       "      <td>2017-03-07</td>\n",
       "      <td>5</td>\n",
       "    </tr>\n",
       "    <tr>\n",
       "      <th>7</th>\n",
       "      <td>Aripiprazole</td>\n",
       "      <td>Bipolar Disorde</td>\n",
       "      <td>\"Abilify changed my life. There is hope. I was...</td>\n",
       "      <td>10.0</td>\n",
       "      <td>2015-03-14</td>\n",
       "      <td>32</td>\n",
       "    </tr>\n",
       "    <tr>\n",
       "      <th>8</th>\n",
       "      <td>Keppra</td>\n",
       "      <td>Epilepsy</td>\n",
       "      <td>\" I Ve had  nothing but problems with the Kepp...</td>\n",
       "      <td>1.0</td>\n",
       "      <td>2016-08-09</td>\n",
       "      <td>11</td>\n",
       "    </tr>\n",
       "    <tr>\n",
       "      <th>9</th>\n",
       "      <td>Ethinyl estradiol / levonorgestrel</td>\n",
       "      <td>Birth Control</td>\n",
       "      <td>\"I had been on the pill for many years. When m...</td>\n",
       "      <td>8.0</td>\n",
       "      <td>2016-12-08</td>\n",
       "      <td>1</td>\n",
       "    </tr>\n",
       "  </tbody>\n",
       "</table>\n",
       "</div>"
      ],
      "text/plain": [
       "                             drugName                     condition  \\\n",
       "0                           Valsartan  Left Ventricular Dysfunction   \n",
       "1                          Guanfacine                          ADHD   \n",
       "2                              Lybrel                 Birth Control   \n",
       "3                          Ortho Evra                 Birth Control   \n",
       "4            Buprenorphine / naloxone             Opiate Dependence   \n",
       "5                              Cialis  Benign Prostatic Hyperplasia   \n",
       "6                      Levonorgestrel       Emergency Contraception   \n",
       "7                        Aripiprazole               Bipolar Disorde   \n",
       "8                              Keppra                      Epilepsy   \n",
       "9  Ethinyl estradiol / levonorgestrel                 Birth Control   \n",
       "\n",
       "                                              review  rating       date  \\\n",
       "0  \"It has no side effect, I take it in combinati...     9.0 2012-05-20   \n",
       "1  \"My son is halfway through his fourth week of ...     8.0 2010-04-27   \n",
       "2  \"I used to take another oral contraceptive, wh...     5.0 2009-12-14   \n",
       "3  \"This is my first time using any form of birth...     8.0 2015-11-03   \n",
       "4  \"Suboxone has completely turned my life around...     9.0 2016-11-27   \n",
       "5  \"2nd day on 5mg started to work with rock hard...     2.0 2015-11-28   \n",
       "6  \"He pulled out, but he cummed a bit in me. I t...     1.0 2017-03-07   \n",
       "7  \"Abilify changed my life. There is hope. I was...    10.0 2015-03-14   \n",
       "8  \" I Ve had  nothing but problems with the Kepp...     1.0 2016-08-09   \n",
       "9  \"I had been on the pill for many years. When m...     8.0 2016-12-08   \n",
       "\n",
       "   usefulCount  \n",
       "0           27  \n",
       "1          192  \n",
       "2           17  \n",
       "3           10  \n",
       "4           37  \n",
       "5           43  \n",
       "6            5  \n",
       "7           32  \n",
       "8           11  \n",
       "9            1  "
      ]
     },
     "execution_count": 23,
     "metadata": {},
     "output_type": "execute_result"
    }
   ],
   "source": [
    "train_data.head(10)"
   ]
  },
  {
   "cell_type": "code",
   "execution_count": 24,
   "metadata": {},
   "outputs": [],
   "source": [
    "train_data = train_data.dropna(subset=['rating', 'condition', 'drugName'])\n"
   ]
  },
  {
   "cell_type": "code",
   "execution_count": 25,
   "metadata": {},
   "outputs": [],
   "source": [
    "#clasifying ratings \n",
    "\n",
    "def classify_effectiveness(rating):\n",
    "    if rating >=8:\n",
    "        return 'Effective'\n",
    "    elif 5<= rating <8:\n",
    "        return \"Moderately Effective\"\n",
    "    else:\n",
    "        return 'Ineffective'\n",
    "train_data['effectiveness'] = train_data['rating'].apply(classify_effectiveness)"
   ]
  },
  {
   "cell_type": "code",
   "execution_count": 26,
   "metadata": {},
   "outputs": [
    {
     "data": {
      "text/html": [
       "<div>\n",
       "<style scoped>\n",
       "    .dataframe tbody tr th:only-of-type {\n",
       "        vertical-align: middle;\n",
       "    }\n",
       "\n",
       "    .dataframe tbody tr th {\n",
       "        vertical-align: top;\n",
       "    }\n",
       "\n",
       "    .dataframe thead th {\n",
       "        text-align: right;\n",
       "    }\n",
       "</style>\n",
       "<table border=\"1\" class=\"dataframe\">\n",
       "  <thead>\n",
       "    <tr style=\"text-align: right;\">\n",
       "      <th></th>\n",
       "      <th>drugName</th>\n",
       "      <th>condition</th>\n",
       "      <th>review</th>\n",
       "      <th>rating</th>\n",
       "      <th>date</th>\n",
       "      <th>usefulCount</th>\n",
       "      <th>effectiveness</th>\n",
       "    </tr>\n",
       "  </thead>\n",
       "  <tbody>\n",
       "    <tr>\n",
       "      <th>0</th>\n",
       "      <td>Valsartan</td>\n",
       "      <td>Left Ventricular Dysfunction</td>\n",
       "      <td>\"It has no side effect, I take it in combinati...</td>\n",
       "      <td>9.0</td>\n",
       "      <td>2012-05-20</td>\n",
       "      <td>27</td>\n",
       "      <td>Effective</td>\n",
       "    </tr>\n",
       "    <tr>\n",
       "      <th>1</th>\n",
       "      <td>Guanfacine</td>\n",
       "      <td>ADHD</td>\n",
       "      <td>\"My son is halfway through his fourth week of ...</td>\n",
       "      <td>8.0</td>\n",
       "      <td>2010-04-27</td>\n",
       "      <td>192</td>\n",
       "      <td>Effective</td>\n",
       "    </tr>\n",
       "    <tr>\n",
       "      <th>2</th>\n",
       "      <td>Lybrel</td>\n",
       "      <td>Birth Control</td>\n",
       "      <td>\"I used to take another oral contraceptive, wh...</td>\n",
       "      <td>5.0</td>\n",
       "      <td>2009-12-14</td>\n",
       "      <td>17</td>\n",
       "      <td>Moderately Effective</td>\n",
       "    </tr>\n",
       "    <tr>\n",
       "      <th>3</th>\n",
       "      <td>Ortho Evra</td>\n",
       "      <td>Birth Control</td>\n",
       "      <td>\"This is my first time using any form of birth...</td>\n",
       "      <td>8.0</td>\n",
       "      <td>2015-11-03</td>\n",
       "      <td>10</td>\n",
       "      <td>Effective</td>\n",
       "    </tr>\n",
       "    <tr>\n",
       "      <th>4</th>\n",
       "      <td>Buprenorphine / naloxone</td>\n",
       "      <td>Opiate Dependence</td>\n",
       "      <td>\"Suboxone has completely turned my life around...</td>\n",
       "      <td>9.0</td>\n",
       "      <td>2016-11-27</td>\n",
       "      <td>37</td>\n",
       "      <td>Effective</td>\n",
       "    </tr>\n",
       "    <tr>\n",
       "      <th>5</th>\n",
       "      <td>Cialis</td>\n",
       "      <td>Benign Prostatic Hyperplasia</td>\n",
       "      <td>\"2nd day on 5mg started to work with rock hard...</td>\n",
       "      <td>2.0</td>\n",
       "      <td>2015-11-28</td>\n",
       "      <td>43</td>\n",
       "      <td>Ineffective</td>\n",
       "    </tr>\n",
       "    <tr>\n",
       "      <th>6</th>\n",
       "      <td>Levonorgestrel</td>\n",
       "      <td>Emergency Contraception</td>\n",
       "      <td>\"He pulled out, but he cummed a bit in me. I t...</td>\n",
       "      <td>1.0</td>\n",
       "      <td>2017-03-07</td>\n",
       "      <td>5</td>\n",
       "      <td>Ineffective</td>\n",
       "    </tr>\n",
       "    <tr>\n",
       "      <th>7</th>\n",
       "      <td>Aripiprazole</td>\n",
       "      <td>Bipolar Disorde</td>\n",
       "      <td>\"Abilify changed my life. There is hope. I was...</td>\n",
       "      <td>10.0</td>\n",
       "      <td>2015-03-14</td>\n",
       "      <td>32</td>\n",
       "      <td>Effective</td>\n",
       "    </tr>\n",
       "    <tr>\n",
       "      <th>8</th>\n",
       "      <td>Keppra</td>\n",
       "      <td>Epilepsy</td>\n",
       "      <td>\" I Ve had  nothing but problems with the Kepp...</td>\n",
       "      <td>1.0</td>\n",
       "      <td>2016-08-09</td>\n",
       "      <td>11</td>\n",
       "      <td>Ineffective</td>\n",
       "    </tr>\n",
       "    <tr>\n",
       "      <th>9</th>\n",
       "      <td>Ethinyl estradiol / levonorgestrel</td>\n",
       "      <td>Birth Control</td>\n",
       "      <td>\"I had been on the pill for many years. When m...</td>\n",
       "      <td>8.0</td>\n",
       "      <td>2016-12-08</td>\n",
       "      <td>1</td>\n",
       "      <td>Effective</td>\n",
       "    </tr>\n",
       "  </tbody>\n",
       "</table>\n",
       "</div>"
      ],
      "text/plain": [
       "                             drugName                     condition  \\\n",
       "0                           Valsartan  Left Ventricular Dysfunction   \n",
       "1                          Guanfacine                          ADHD   \n",
       "2                              Lybrel                 Birth Control   \n",
       "3                          Ortho Evra                 Birth Control   \n",
       "4            Buprenorphine / naloxone             Opiate Dependence   \n",
       "5                              Cialis  Benign Prostatic Hyperplasia   \n",
       "6                      Levonorgestrel       Emergency Contraception   \n",
       "7                        Aripiprazole               Bipolar Disorde   \n",
       "8                              Keppra                      Epilepsy   \n",
       "9  Ethinyl estradiol / levonorgestrel                 Birth Control   \n",
       "\n",
       "                                              review  rating       date  \\\n",
       "0  \"It has no side effect, I take it in combinati...     9.0 2012-05-20   \n",
       "1  \"My son is halfway through his fourth week of ...     8.0 2010-04-27   \n",
       "2  \"I used to take another oral contraceptive, wh...     5.0 2009-12-14   \n",
       "3  \"This is my first time using any form of birth...     8.0 2015-11-03   \n",
       "4  \"Suboxone has completely turned my life around...     9.0 2016-11-27   \n",
       "5  \"2nd day on 5mg started to work with rock hard...     2.0 2015-11-28   \n",
       "6  \"He pulled out, but he cummed a bit in me. I t...     1.0 2017-03-07   \n",
       "7  \"Abilify changed my life. There is hope. I was...    10.0 2015-03-14   \n",
       "8  \" I Ve had  nothing but problems with the Kepp...     1.0 2016-08-09   \n",
       "9  \"I had been on the pill for many years. When m...     8.0 2016-12-08   \n",
       "\n",
       "   usefulCount         effectiveness  \n",
       "0           27             Effective  \n",
       "1          192             Effective  \n",
       "2           17  Moderately Effective  \n",
       "3           10             Effective  \n",
       "4           37             Effective  \n",
       "5           43           Ineffective  \n",
       "6            5           Ineffective  \n",
       "7           32             Effective  \n",
       "8           11           Ineffective  \n",
       "9            1             Effective  "
      ]
     },
     "execution_count": 26,
     "metadata": {},
     "output_type": "execute_result"
    }
   ],
   "source": [
    "train_data.head(10)"
   ]
  },
  {
   "cell_type": "markdown",
   "metadata": {},
   "source": [
    "Clustering to recommend drugs "
   ]
  },
  {
   "cell_type": "code",
   "execution_count": 31,
   "metadata": {},
   "outputs": [],
   "source": [
    "from sklearn.preprocessing import StandardScaler\n",
    "clustering_features = train_data[['rating']]\n",
    "                                 \n",
    "scaler = StandardScaler()\n",
    "scaled_features = scaler.fit_transform(clustering_features)"
   ]
  },
  {
   "cell_type": "code",
   "execution_count": 32,
   "metadata": {},
   "outputs": [],
   "source": [
    "from sklearn.cluster import KMeans\n",
    "\n",
    "KMeans = KMeans(n_clusters = 5, random_state=42)\n",
    "clusters = KMeans.fit_predict(scaled_features)\n",
    "\n",
    "train_data['cluster_label'] = clusters"
   ]
  },
  {
   "cell_type": "code",
   "execution_count": 35,
   "metadata": {},
   "outputs": [
    {
     "name": "stdout",
     "output_type": "stream",
     "text": [
      "                              drugName                     condition\n",
      "0                            Valsartan  Left Ventricular Dysfunction\n",
      "1                           Guanfacine                          ADHD\n",
      "2                               Lybrel                 Birth Control\n",
      "3                           Ortho Evra                 Birth Control\n",
      "4             Buprenorphine / naloxone             Opiate Dependence\n",
      "5                               Cialis  Benign Prostatic Hyperplasia\n",
      "6                       Levonorgestrel       Emergency Contraception\n",
      "7                         Aripiprazole               Bipolar Disorde\n",
      "8                               Keppra                      Epilepsy\n",
      "9   Ethinyl estradiol / levonorgestrel                 Birth Control\n",
      "10                          Topiramate           Migraine Prevention\n",
      "11                      L-methylfolate                    Depression\n",
      "12                             Pentasa               Crohn's Disease\n",
      "13                    Dextromethorphan                         Cough\n",
      "14                           Nexplanon                 Birth Control\n",
      "15                         Liraglutide                       Obesity\n",
      "20                             Atripla                 HIV Infection\n",
      "24                         Tioconazole       Vaginal Yeast Infection\n",
      "25                        Azithromycin           Chlamydia Infection\n",
      "28                              Ativan                 Panic Disorde\n",
      "29                             Imitrex                      Migraine\n",
      "33                         Tioconazole       Vaginal Yeast Infection\n",
      "36                            Dulcolax                  Constipation\n",
      "43                          Metaxalone                  Muscle Spasm\n",
      "44                         Venlafaxine                    Depression\n",
      "48                          Tamsulosin             Overactive Bladde\n",
      "60                          Effexor XR                       Anxiety\n",
      "61    Drospirenone / ethinyl estradiol                 Birth Control\n",
      "64                            NuvaRing                 Birth Control\n",
      "75                           Nexplanon                 Birth Control\n"
     ]
    }
   ],
   "source": [
    "print(train_data.groupby('cluster_label')[['drugName', 'condition']].head(6))\n"
   ]
  },
  {
   "cell_type": "code",
   "execution_count": 36,
   "metadata": {},
   "outputs": [],
   "source": [
    "# Assuming `kmeans.labels_` contains cluster labels\n",
    "train_data['cluster_label'] = KMeans.labels_\n"
   ]
  },
  {
   "cell_type": "code",
   "execution_count": 37,
   "metadata": {},
   "outputs": [
    {
     "data": {
      "text/plain": [
       "cluster_label  condition              \n",
       "0              Birth Control              10110\n",
       "               Depression                  4297\n",
       "               Anxiety                     3421\n",
       "               Pain                        3415\n",
       "               Acne                        3022\n",
       "               Weight Loss                 2305\n",
       "               Bipolar Disorde             2054\n",
       "               Obesity                     2047\n",
       "               Emergency Contraception     1838\n",
       "               Insomnia                    1717\n",
       "Name: count, dtype: int64"
      ]
     },
     "execution_count": 37,
     "metadata": {},
     "output_type": "execute_result"
    }
   ],
   "source": [
    "train_data.groupby('cluster_label')['condition'].value_counts().head(10)\n"
   ]
  },
  {
   "cell_type": "code",
   "execution_count": 38,
   "metadata": {},
   "outputs": [
    {
     "data": {
      "text/plain": [
       "cluster_label  condition                                   drugName               \n",
       "0              0</span> users found this comment helpful.  Chantix                     9.000000\n",
       "                                                           Depo-Provera                9.200000\n",
       "                                                           Drysol                     10.000000\n",
       "                                                           Hypercare                   9.666667\n",
       "                                                           Implanon                    9.666667\n",
       "                                                                                        ...    \n",
       "4              min / sitagliptin)                          Metformin / sitagliptin     3.750000\n",
       "               min)                                        Linagliptin / metformin     3.000000\n",
       "               moterol / mometasone)                       Formoterol / mometasone     4.000000\n",
       "               moterol)                                    Budesonide / formoterol     3.571429\n",
       "                                                           Formoterol                  4.000000\n",
       "Name: rating, Length: 19432, dtype: float64"
      ]
     },
     "execution_count": 38,
     "metadata": {},
     "output_type": "execute_result"
    }
   ],
   "source": [
    "train_data.groupby(['cluster_label', 'condition', 'drugName'])['rating'].mean()\n"
   ]
  },
  {
   "cell_type": "code",
   "execution_count": 44,
   "metadata": {},
   "outputs": [
    {
     "name": "stdout",
     "output_type": "stream",
     "text": [
      "\n",
      "Cluster 0:\n",
      "Top conditions and drugs:\n",
      "condition          drugName    \n",
      "Contraception      Depo-Provera    1\n",
      "Hyperhidrosis      Drysol          1\n",
      "Smoking Cessation  Chantix         1\n",
      "dtype: int64\n",
      "\n",
      "Cluster 4:\n",
      "Top conditions and drugs:\n",
      "condition  drugName             \n",
      "Asthma     Formoterol               1\n",
      "Diabetes   Metformin/sitagliptin    1\n",
      "dtype: int64\n"
     ]
    }
   ],
   "source": [
    "# Check common drugs and conditions per cluster\n",
    "for cluster in train_data['cluster_label'].unique():\n",
    "    print(f\"\\nCluster {cluster}:\")\n",
    "    cluster_data = train_data[train_data['cluster_label'] == cluster]\n",
    "    print(\"Top conditions and drugs:\")\n",
    "    print(cluster_data.groupby(['condition', 'drugName']).size().nlargest(5))\n"
   ]
  },
  {
   "cell_type": "code",
   "execution_count": 45,
   "metadata": {},
   "outputs": [
    {
     "name": "stdout",
     "output_type": "stream",
     "text": [
      "   cluster_label          condition               drugName  rating\n",
      "3              4             Asthma             Formoterol    4.00\n",
      "4              4           Diabetes  Metformin/sitagliptin    3.75\n",
      "1              0      Hyperhidrosis                 Drysol   10.00\n",
      "0              0      Contraception           Depo-Provera    9.20\n",
      "2              0  Smoking Cessation                Chantix    9.00\n"
     ]
    }
   ],
   "source": [
    "# Find the top-rated drugs for each condition in the cluster\n",
    "top_rated_drugs = (\n",
    "    train_data.groupby(['cluster_label', 'condition', 'drugName'])['rating']\n",
    "    .mean()\n",
    "    .reset_index()\n",
    "    .sort_values(by=['cluster_label', 'rating'], ascending=False)\n",
    ")\n",
    "\n",
    "print(top_rated_drugs.head(10))\n"
   ]
  },
  {
   "cell_type": "markdown",
   "metadata": {},
   "source": [
    "Interpretation of Clusters\n",
    "Cluster 0 Insights:\n",
    "Top Conditions: Contraception, Hyperhidrosis, Smoking Cessation\n",
    "Drugs in Cluster:\n",
    "Depo-Provera: Used for contraception with a rating of 9.20.\n",
    "Drysol: Used for hyperhidrosis (excessive sweating) with a perfect rating of 10.00.\n",
    "Chantix: Used for smoking cessation, highly effective for users in this cluster.\n",
    "Observation:\n",
    "This cluster groups drugs that are well-rated for conditions related to lifestyle or preventive care. The ratings are notably high, suggesting that treatments in this group generally work well for patients.\n",
    "\n",
    "Cluster 4 Insights:\n",
    "Top Conditions: Asthma and Diabetes\n",
    "Drugs in Cluster:\n",
    "Formoterol: Used for asthma, with a lower rating of 4.00.\n",
    "Metformin/Sitagliptin: A combination drug for managing diabetes, rated at 3.75.\n",
    "Observation:\n",
    "This cluster contains drugs targeting chronic health conditions. However, the lower ratings might indicate dissatisfaction or limited effectiveness among patients.\n",
    "\n",
    "Overall Insights:\n",
    "Cluster Differences: Cluster 0 focuses on well-received drugs for immediate or preventive conditions, while Cluster 4 contains drugs for chronic illnesses that may not be as highly rated by users.\n",
    "Potential Recommendations:\n",
    "Consider improving formulations or patient management strategies for chronic condition drugs in Cluster 4.\n",
    "Drugs in Cluster 0 may already represent optimal treatment choices for their conditions based on user ratings."
   ]
  },
  {
   "cell_type": "code",
   "execution_count": 46,
   "metadata": {},
   "outputs": [
    {
     "name": "stdout",
     "output_type": "stream",
     "text": [
      "Series([], Name: rating, dtype: float64)\n"
     ]
    }
   ],
   "source": [
    "def recommend_drugs(cluster_label, condition):\n",
    "    cluster_data = train_data[\n",
    "        (train_data['cluster_label'] == cluster_label) & \n",
    "        (train_data['condition'] == condition)\n",
    "    ]\n",
    "    \n",
    "    recommended_drugs = (\n",
    "        cluster_data.groupby('drugName')['rating']\n",
    "        .mean()\n",
    "        .sort_values(ascending=False)\n",
    "        .head(3)\n",
    "    )\n",
    "    return recommended_drugs\n",
    "\n",
    "# Example usage\n",
    "print(recommend_drugs(0, \"Birth Control\"))\n"
   ]
  },
  {
   "cell_type": "code",
   "execution_count": 47,
   "metadata": {},
   "outputs": [],
   "source": [
    "#'cluster_label' is the column from clustering\n",
    "clustered_data = train_data[['drugName', 'condition', 'rating', 'cluster_label']]\n"
   ]
  },
  {
   "cell_type": "code",
   "execution_count": 48,
   "metadata": {},
   "outputs": [],
   "source": [
    "# Group data by clusters and drugs\n",
    "cluster_drug_ratings = clustered_data.groupby(['cluster_label', 'drugName'])['rating'].mean().reset_index()\n",
    "\n",
    "# Sort within each cluster\n",
    "top_drugs_per_cluster = cluster_drug_ratings.sort_values(['cluster_label', 'rating'], ascending=[True, False])\n"
   ]
  },
  {
   "cell_type": "code",
   "execution_count": 49,
   "metadata": {},
   "outputs": [],
   "source": [
    "# Group data by clusters and conditions\n",
    "cluster_condition_ratings = clustered_data.groupby(['cluster_label', 'condition'])['rating'].mean().reset_index()\n",
    "\n",
    "# Sort within each cluster\n",
    "top_conditions_per_cluster = cluster_condition_ratings.sort_values(['cluster_label', 'rating'], ascending=[True, False])\n"
   ]
  },
  {
   "cell_type": "code",
   "execution_count": 50,
   "metadata": {},
   "outputs": [],
   "source": [
    "# Merge the top drugs and conditions by cluster\n",
    "recommendations = pd.merge(\n",
    "    top_drugs_per_cluster, \n",
    "    top_conditions_per_cluster, \n",
    "    on='cluster_label', \n",
    "    suffixes=('_drug', '_condition')\n",
    ")\n",
    "\n",
    "# Filter for highly rated drugs and conditions\n",
    "recommendations = recommendations[recommendations['rating_drug'] > 8]\n"
   ]
  },
  {
   "cell_type": "code",
   "execution_count": 51,
   "metadata": {},
   "outputs": [
    {
     "name": "stdout",
     "output_type": "stream",
     "text": [
      "Cluster 0 Recommendations:\n",
      "  Drug: Drysol - Condition: Hyperhidrosis - Drug Rating: 10.00\n",
      "  Drug: Drysol - Condition: Contraception - Drug Rating: 10.00\n",
      "  Drug: Drysol - Condition: Smoking Cessation - Drug Rating: 10.00\n",
      "  Drug: Depo-Provera - Condition: Hyperhidrosis - Drug Rating: 9.20\n",
      "  Drug: Depo-Provera - Condition: Contraception - Drug Rating: 9.20\n",
      "  Drug: Depo-Provera - Condition: Smoking Cessation - Drug Rating: 9.20\n",
      "  Drug: Chantix - Condition: Hyperhidrosis - Drug Rating: 9.00\n",
      "  Drug: Chantix - Condition: Contraception - Drug Rating: 9.00\n",
      "  Drug: Chantix - Condition: Smoking Cessation - Drug Rating: 9.00\n"
     ]
    }
   ],
   "source": [
    "for cluster in recommendations['cluster_label'].unique():\n",
    "    print(f\"Cluster {cluster} Recommendations:\")\n",
    "    cluster_recs = recommendations[recommendations['cluster_label'] == cluster]\n",
    "    for _, row in cluster_recs.iterrows():\n",
    "        print(f\"  Drug: {row['drugName']} - Condition: {row['condition']} - Drug Rating: {row['rating_drug']:.2f}\")\n"
   ]
  },
  {
   "cell_type": "code",
   "execution_count": 52,
   "metadata": {},
   "outputs": [
    {
     "data": {
      "image/png": "[encoded data removed]",
      "text/plain": [
       "<Figure size 1200x800 with 1 Axes>"
      ]
     },
     "metadata": {},
     "output_type": "display_data"
    }
   ],
   "source": [
    "import seaborn as sns\n",
    "import matplotlib.pyplot as plt\n",
    "\n",
    "plt.figure(figsize=(12, 8))\n",
    "sns.barplot(\n",
    "    data=recommendations, \n",
    "    x='rating_drug', \n",
    "    y='drugName', \n",
    "    hue='condition'\n",
    ")\n",
    "plt.title('Recommended Drugs by Condition and Cluster')\n",
    "plt.xlabel('Average Drug Rating')\n",
    "plt.ylabel('Drug Name')\n",
    "plt.show()\n"
   ]
  },
  {
   "cell_type": "code",
   "execution_count": null,
   "metadata": {},
   "outputs": [],
   "source": []
  }
 ],
 "metadata": {
  "kernelspec": {
   "display_name": "Python 3",
   "language": "python",
   "name": "python3"
  },
  "language_info": {
   "codemirror_mode": {
    "name": "ipython",
    "version": 3
   },
   "file_extension": ".py",
   "mimetype": "text/x-python",
   "name": "python",
   "nbconvert_exporter": "python",
   "pygments_lexer": "ipython3",
   "version": "3.11.9"
  }
 },
 "nbformat": 4,
 "nbformat_minor": 2
}
